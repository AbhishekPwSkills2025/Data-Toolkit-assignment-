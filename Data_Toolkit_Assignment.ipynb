{
 "cells": [
  {
   "cell_type": "markdown",
   "id": "5348bef0",
   "metadata": {},
   "source": [
    "# Data Toolkit Assignment\n",
    "\n",
    "This notebook covers both theoretical and practical questions on data tools like NumPy, Pandas, Matplotlib, Seaborn, and Plotly. It aims to provide answers and code implementations for core data manipulation and visualization tasks.\n"
   ]
  },
  {
   "cell_type": "markdown",
   "id": "d5a5e22e",
   "metadata": {},
   "source": [
    "## Theoretical Questions"
   ]
  },
  {
   "cell_type": "markdown",
   "id": "4704c92e",
   "metadata": {},
   "source": [
    "**1. What is NumPy, and why is it widely used in Python?**\n",
    "\n",
    "NumPy (Numerical Python) is a powerful library for numerical computations. It provides support for arrays, matrices, and many mathematical functions. It's fast and efficient due to its use of C under the hood."
   ]
  },
  {
   "cell_type": "markdown",
   "id": "37174dcd",
   "metadata": {},
   "source": [
    "**2. How does broadcasting work in NumPy?**\n",
    "\n",
    "Broadcasting allows NumPy to perform arithmetic operations on arrays of different shapes. It 'stretches' the smaller array across the larger one so element-wise operations can occur."
   ]
  },
  {
   "cell_type": "markdown",
   "id": "33634fcb",
   "metadata": {},
   "source": [
    "**3. What is a Pandas DataFrame?**\n",
    "\n",
    "A DataFrame is a 2D labeled data structure with columns of potentially different types. It's like a spreadsheet or SQL table."
   ]
  },
  {
   "cell_type": "markdown",
   "id": "d84661ab",
   "metadata": {},
   "source": [
    "## Practical Questions"
   ]
  },
  {
   "cell_type": "code",
   "execution_count": null,
   "id": "286c8d63",
   "metadata": {},
   "outputs": [],
   "source": [
    "# 1. Create a 2D NumPy array and calculate the sum of each row\n",
    "import numpy as np\n",
    "arr = np.array([[1, 2], [3, 4], [5, 6]])\n",
    "row_sums = arr.sum(axis=1)\n",
    "print('Row sums:', row_sums)"
   ]
  },
  {
   "cell_type": "code",
   "execution_count": null,
   "id": "7dd2168d",
   "metadata": {},
   "outputs": [],
   "source": [
    "# 2. Find the mean of a specific column in a DataFrame\n",
    "import pandas as pd\n",
    "df = pd.DataFrame({'A': [1, 2, 3], 'B': [4, 5, 6]})\n",
    "mean_a = df['A'].mean()\n",
    "print('Mean of column A:', mean_a)"
   ]
  },
  {
   "cell_type": "code",
   "execution_count": null,
   "id": "53fd70bd",
   "metadata": {},
   "outputs": [],
   "source": [
    "# 3. Create a scatter plot using Matplotlib\n",
    "import matplotlib.pyplot as plt\n",
    "x = [1, 2, 3, 4]\n",
    "y = [10, 20, 25, 30]\n",
    "plt.scatter(x, y)\n",
    "plt.title('Scatter Plot')\n",
    "plt.xlabel('x')\n",
    "plt.ylabel('y')\n",
    "plt.show()"
   ]
  }
 ],
 "metadata": {},
 "nbformat": 4,
 "nbformat_minor": 5
}
